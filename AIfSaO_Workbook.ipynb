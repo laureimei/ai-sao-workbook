{
  "nbformat": 4,
  "nbformat_minor": 0,
  "metadata": {
    "colab": {
      "provenance": [],
      "authorship_tag": "ABX9TyO0+QMxQ5y6kZyYaNa/ElJH",
      "include_colab_link": true
    },
    "kernelspec": {
      "name": "python3",
      "display_name": "Python 3"
    },
    "language_info": {
      "name": "python"
    }
  },
  "cells": [
    {
      "cell_type": "markdown",
      "metadata": {
        "id": "view-in-github",
        "colab_type": "text"
      },
      "source": [
        "<a href=\"https://colab.research.google.com/github/laureimei/ai-sao-workbook/blob/master/AIfSaO_Workbook.ipynb\" target=\"_parent\"><img src=\"https://colab.research.google.com/assets/colab-badge.svg\" alt=\"Open In Colab\"/></a>"
      ]
    },
    {
      "cell_type": "code",
      "execution_count": 1,
      "metadata": {
        "id": "j_uNvlU3ieok",
        "colab": {
          "base_uri": "https://localhost:8080/"
        },
        "outputId": "900301cc-03fe-4268-a948-a6cd5691ea1e"
      },
      "outputs": [
        {
          "output_type": "stream",
          "name": "stdout",
          "text": [
            "Path found: [(0, 0), (0, 1), (0, 2), (1, 2), (2, 2), (2, 3), (3, 3)]\n"
          ]
        }
      ],
      "source": [
        "\n",
        "# Define the grid where 1 is a blocked cell and 0 is a free cell\n",
        "grid = [\n",
        "    [0, 0, 0, 0],\n",
        "    [1, 1, 0, 1],\n",
        "    [0, 0, 0, 0],\n",
        "    [1, 0, 0, 0]\n",
        "]\n",
        "\n",
        "# Define the size of the grid (rows and columns)\n",
        "n_rows = len(grid)\n",
        "n_cols = len(grid[0])\n",
        "\n",
        "# Define the starting and goal positions\n",
        "start = (0, 0)\n",
        "goal = (n_rows - 1, n_cols - 1)\n",
        "\n",
        "# Directions the robot can move in (right, down)\n",
        "moves = [(0, 1), (1, 0)]  # (row_change, col_change)\n",
        "\n",
        "# Function to check if a position is valid\n",
        "def is_valid_position(grid, row, col):\n",
        "    if 0 <= row < n_rows and 0 <= col < n_cols and grid[row][col] == 0:\n",
        "        return True\n",
        "    return False\n",
        "\n",
        "# Recursive function to search for a path\n",
        "def find_path(grid, position, path):\n",
        "    row, col = position\n",
        "\n",
        "\n",
        "# If the robot reaches the goal, return the path\n",
        "    if position == goal:\n",
        "        return path + [position]\n",
        "\n",
        "     # Explore possible moves (right, down)\n",
        "    for move in moves:\n",
        "        new_row = row + move[0]\n",
        "        new_col = col + move[1]\n",
        "        new_position = (new_row, new_col)\n",
        "\n",
        "        # Check if the new position is valid and not already in the path\n",
        "        if is_valid_position(grid, new_row, new_col) and new_position not in path:\n",
        "            result = find_path(grid, new_position, path + [position])\n",
        "            if result:\n",
        "                return result  # Return the path if a solution is found\n",
        "\n",
        "                      #return None  # Return None if no path is found\n",
        "\n",
        "# Start the search from the start position\n",
        "path = find_path(grid, start, [])\n",
        "\n",
        "# Output the result\n",
        "if path:\n",
        "    print(\"Path found:\", path)\n",
        "else:\n",
        "    print(\"No path found.\")"
      ]
    },
    {
      "cell_type": "markdown",
      "source": [],
      "metadata": {
        "id": "aG-_NcUBjPdz"
      }
    }
  ]
}